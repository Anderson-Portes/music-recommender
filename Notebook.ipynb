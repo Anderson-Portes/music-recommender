{
 "cells": [
  {
   "cell_type": "code",
   "execution_count": 17,
   "id": "ac4666a5",
   "metadata": {},
   "outputs": [],
   "source": [
    "import pandas as pd\n",
    "import numpy as np\n",
    "from sklearn.feature_extraction.text import CountVectorizer\n",
    "from sklearn.metrics.pairwise import cosine_similarity\n",
    "import pickle"
   ]
  },
  {
   "cell_type": "code",
   "execution_count": 2,
   "id": "b3be6bfb",
   "metadata": {},
   "outputs": [],
   "source": [
    "musics = pd.read_csv('musics.csv')"
   ]
  },
  {
   "cell_type": "code",
   "execution_count": 3,
   "id": "73f0da18",
   "metadata": {},
   "outputs": [],
   "source": [
    "musics.dropna(inplace=True)"
   ]
  },
  {
   "cell_type": "code",
   "execution_count": 4,
   "id": "3b8738c5",
   "metadata": {},
   "outputs": [],
   "source": [
    "musics.year = musics.year.apply(lambda x:'year:'+str(x))"
   ]
  },
  {
   "cell_type": "code",
   "execution_count": 5,
   "id": "b4aef173",
   "metadata": {},
   "outputs": [],
   "source": [
    "column_rename = {\n",
    "    \"the genre of the track\": \"genre\",\n",
    "    \"Beats.Per.Minute -The tempo of the song\": \"bpm\",\n",
    "    \"Energy- The energy of a song - the higher the value, the more energtic\": \"energy\",\n",
    "    \"Danceability - The higher the value, the easier it is to dance to this song\": \"dance\",\n",
    "    \"Loudness/dB - The higher the value, the louder the song\": \"loud\",\n",
    "    \"Liveness - The higher the value, the more likely the song is a live recording\": \"live\",\n",
    "    \"Valence - The higher the value, the more positive mood for the song\": \"valence\",\n",
    "    \"Length - The duration of the song\":\"duration\",\n",
    "    \"Acousticness - The higher the value the more acoustic the song is\": \"acoustic\",\n",
    "    \"Speechiness - The higher the value the more spoken word the song contains\": \"speech\",\n",
    "    \"Popularity- The higher the value the more popular the song is\": \"popularity\"\n",
    "}\n",
    "musics = musics.rename(columns=column_rename)"
   ]
  },
  {
   "cell_type": "code",
   "execution_count": 6,
   "id": "819c6128",
   "metadata": {},
   "outputs": [],
   "source": [
    "remove_spaces = lambda x : x.replace(\" \",\"\").lower()\n",
    "musics.artist = musics.artist.apply(remove_spaces)\n",
    "musics.genre = musics.genre.apply(remove_spaces)"
   ]
  },
  {
   "cell_type": "code",
   "execution_count": 7,
   "id": "8f43d515",
   "metadata": {},
   "outputs": [],
   "source": [
    "def set_values():\n",
    "    keys = ['artist','genre','bpm','energy','dance','loud','live','valence','duration','acoustic','speech','popularity']\n",
    "    musics['tags'] = \"\"\n",
    "    for key in keys:\n",
    "        musics[key] = musics[key].apply(lambda x : key+\":\"+str(x))\n",
    "        musics.tags = musics.tags+musics[key]+\" \"\n",
    "set_values()"
   ]
  },
  {
   "cell_type": "code",
   "execution_count": 8,
   "id": "7e60a4fb",
   "metadata": {},
   "outputs": [],
   "source": [
    "data = musics[['title','artist','genre','tags']]"
   ]
  },
  {
   "cell_type": "code",
   "execution_count": 9,
   "id": "ce65eb35",
   "metadata": {},
   "outputs": [],
   "source": [
    "count_v = CountVectorizer(max_features=5000,stop_words='english')\n",
    "vectors = count_v.fit_transform(data.tags).toarray()"
   ]
  },
  {
   "cell_type": "code",
   "execution_count": 10,
   "id": "f5c897bc",
   "metadata": {},
   "outputs": [
    {
     "data": {
      "text/plain": [
       "array([[0, 0, 0, ..., 0, 0, 0],\n",
       "       [0, 0, 0, ..., 0, 0, 0],\n",
       "       [1, 0, 0, ..., 0, 0, 0],\n",
       "       ...,\n",
       "       [0, 0, 0, ..., 0, 0, 0],\n",
       "       [0, 0, 0, ..., 0, 0, 0],\n",
       "       [0, 0, 0, ..., 0, 0, 0]], dtype=int64)"
      ]
     },
     "execution_count": 10,
     "metadata": {},
     "output_type": "execute_result"
    }
   ],
   "source": [
    "vectors"
   ]
  },
  {
   "cell_type": "code",
   "execution_count": 11,
   "id": "2a2c6171",
   "metadata": {},
   "outputs": [],
   "source": [
    "similarity = cosine_similarity(vectors)"
   ]
  },
  {
   "cell_type": "code",
   "execution_count": 12,
   "id": "41125ad8",
   "metadata": {},
   "outputs": [],
   "source": [
    "def recommend(music):\n",
    "    index = data[data['title'] == music].index[0]\n",
    "    distances = similarity[index]\n",
    "    musics_list = sorted(list(enumerate(distances)),reverse=True,key=lambda x:x[1])[1:6]\n",
    "    for i in musics_list:\n",
    "        print(data.iloc[i[0]].title)"
   ]
  },
  {
   "cell_type": "code",
   "execution_count": 16,
   "id": "49fad5c3",
   "metadata": {},
   "outputs": [
    {
     "name": "stdout",
     "output_type": "stream",
     "text": [
      "Takeaway\n",
      "Call You Mine\n",
      "Paris\n",
      "Final Song\n",
      "Beneath Your Beautiful\n"
     ]
    }
   ],
   "source": [
    "recommend('Kills You Slowly')"
   ]
  },
  {
   "cell_type": "code",
   "execution_count": 14,
   "id": "b53113d0",
   "metadata": {},
   "outputs": [
    {
     "data": {
      "text/html": [
       "<div>\n",
       "<style scoped>\n",
       "    .dataframe tbody tr th:only-of-type {\n",
       "        vertical-align: middle;\n",
       "    }\n",
       "\n",
       "    .dataframe tbody tr th {\n",
       "        vertical-align: top;\n",
       "    }\n",
       "\n",
       "    .dataframe thead th {\n",
       "        text-align: right;\n",
       "    }\n",
       "</style>\n",
       "<table border=\"1\" class=\"dataframe\">\n",
       "  <thead>\n",
       "    <tr style=\"text-align: right;\">\n",
       "      <th></th>\n",
       "      <th>title</th>\n",
       "      <th>artist</th>\n",
       "      <th>genre</th>\n",
       "      <th>tags</th>\n",
       "    </tr>\n",
       "  </thead>\n",
       "  <tbody>\n",
       "    <tr>\n",
       "      <th>0</th>\n",
       "      <td>Hey, Soul Sister</td>\n",
       "      <td>artist:train</td>\n",
       "      <td>genre:neomellow</td>\n",
       "      <td>artist:train genre:neomellow bpm:97 energy:89 ...</td>\n",
       "    </tr>\n",
       "    <tr>\n",
       "      <th>1</th>\n",
       "      <td>Love The Way You Lie</td>\n",
       "      <td>artist:eminem</td>\n",
       "      <td>genre:detroithiphop</td>\n",
       "      <td>artist:eminem genre:detroithiphop bpm:87 energ...</td>\n",
       "    </tr>\n",
       "    <tr>\n",
       "      <th>2</th>\n",
       "      <td>TiK ToK</td>\n",
       "      <td>artist:kesha</td>\n",
       "      <td>genre:dancepop</td>\n",
       "      <td>artist:kesha genre:dancepop bpm:120 energy:84 ...</td>\n",
       "    </tr>\n",
       "    <tr>\n",
       "      <th>3</th>\n",
       "      <td>Bad Romance</td>\n",
       "      <td>artist:ladygaga</td>\n",
       "      <td>genre:dancepop</td>\n",
       "      <td>artist:ladygaga genre:dancepop bpm:119 energy:...</td>\n",
       "    </tr>\n",
       "    <tr>\n",
       "      <th>4</th>\n",
       "      <td>Just the Way You Are</td>\n",
       "      <td>artist:brunomars</td>\n",
       "      <td>genre:pop</td>\n",
       "      <td>artist:brunomars genre:pop bpm:109 energy:84 d...</td>\n",
       "    </tr>\n",
       "    <tr>\n",
       "      <th>...</th>\n",
       "      <td>...</td>\n",
       "      <td>...</td>\n",
       "      <td>...</td>\n",
       "      <td>...</td>\n",
       "    </tr>\n",
       "    <tr>\n",
       "      <th>598</th>\n",
       "      <td>Find U Again (feat. Camila Cabello)</td>\n",
       "      <td>artist:markronson</td>\n",
       "      <td>genre:dancepop</td>\n",
       "      <td>artist:markronson genre:dancepop bpm:104 energ...</td>\n",
       "    </tr>\n",
       "    <tr>\n",
       "      <th>599</th>\n",
       "      <td>Cross Me (feat. Chance the Rapper &amp; PnB Rock)</td>\n",
       "      <td>artist:edsheeran</td>\n",
       "      <td>genre:pop</td>\n",
       "      <td>artist:edsheeran genre:pop bpm:95 energy:79 da...</td>\n",
       "    </tr>\n",
       "    <tr>\n",
       "      <th>600</th>\n",
       "      <td>No Brainer (feat. Justin Bieber, Chance the Ra...</td>\n",
       "      <td>artist:djkhaled</td>\n",
       "      <td>genre:dancepop</td>\n",
       "      <td>artist:djkhaled genre:dancepop bpm:136 energy:...</td>\n",
       "    </tr>\n",
       "    <tr>\n",
       "      <th>601</th>\n",
       "      <td>Nothing Breaks Like a Heart (feat. Miley Cyrus)</td>\n",
       "      <td>artist:markronson</td>\n",
       "      <td>genre:dancepop</td>\n",
       "      <td>artist:markronson genre:dancepop bpm:114 energ...</td>\n",
       "    </tr>\n",
       "    <tr>\n",
       "      <th>602</th>\n",
       "      <td>Kills You Slowly</td>\n",
       "      <td>artist:thechainsmokers</td>\n",
       "      <td>genre:electropop</td>\n",
       "      <td>artist:thechainsmokers genre:electropop bpm:15...</td>\n",
       "    </tr>\n",
       "  </tbody>\n",
       "</table>\n",
       "<p>603 rows × 4 columns</p>\n",
       "</div>"
      ],
      "text/plain": [
       "                                                 title  \\\n",
       "0                                     Hey, Soul Sister   \n",
       "1                                 Love The Way You Lie   \n",
       "2                                              TiK ToK   \n",
       "3                                          Bad Romance   \n",
       "4                                 Just the Way You Are   \n",
       "..                                                 ...   \n",
       "598                Find U Again (feat. Camila Cabello)   \n",
       "599      Cross Me (feat. Chance the Rapper & PnB Rock)   \n",
       "600  No Brainer (feat. Justin Bieber, Chance the Ra...   \n",
       "601    Nothing Breaks Like a Heart (feat. Miley Cyrus)   \n",
       "602                                   Kills You Slowly   \n",
       "\n",
       "                     artist                genre  \\\n",
       "0              artist:train      genre:neomellow   \n",
       "1             artist:eminem  genre:detroithiphop   \n",
       "2              artist:kesha       genre:dancepop   \n",
       "3           artist:ladygaga       genre:dancepop   \n",
       "4          artist:brunomars            genre:pop   \n",
       "..                      ...                  ...   \n",
       "598       artist:markronson       genre:dancepop   \n",
       "599        artist:edsheeran            genre:pop   \n",
       "600         artist:djkhaled       genre:dancepop   \n",
       "601       artist:markronson       genre:dancepop   \n",
       "602  artist:thechainsmokers     genre:electropop   \n",
       "\n",
       "                                                  tags  \n",
       "0    artist:train genre:neomellow bpm:97 energy:89 ...  \n",
       "1    artist:eminem genre:detroithiphop bpm:87 energ...  \n",
       "2    artist:kesha genre:dancepop bpm:120 energy:84 ...  \n",
       "3    artist:ladygaga genre:dancepop bpm:119 energy:...  \n",
       "4    artist:brunomars genre:pop bpm:109 energy:84 d...  \n",
       "..                                                 ...  \n",
       "598  artist:markronson genre:dancepop bpm:104 energ...  \n",
       "599  artist:edsheeran genre:pop bpm:95 energy:79 da...  \n",
       "600  artist:djkhaled genre:dancepop bpm:136 energy:...  \n",
       "601  artist:markronson genre:dancepop bpm:114 energ...  \n",
       "602  artist:thechainsmokers genre:electropop bpm:15...  \n",
       "\n",
       "[603 rows x 4 columns]"
      ]
     },
     "execution_count": 14,
     "metadata": {},
     "output_type": "execute_result"
    }
   ],
   "source": [
    "data"
   ]
  },
  {
   "cell_type": "code",
   "execution_count": 20,
   "id": "229fab64",
   "metadata": {},
   "outputs": [],
   "source": [
    "pickle.dump(data.to_dict(),open('data.pkl','wb'))\n",
    "pickle.dump(similarity,open('similarity.pkl','wb'))"
   ]
  },
  {
   "cell_type": "code",
   "execution_count": null,
   "id": "59e4ec4c",
   "metadata": {},
   "outputs": [],
   "source": []
  }
 ],
 "metadata": {
  "kernelspec": {
   "display_name": "Python 3 (ipykernel)",
   "language": "python",
   "name": "python3"
  },
  "language_info": {
   "codemirror_mode": {
    "name": "ipython",
    "version": 3
   },
   "file_extension": ".py",
   "mimetype": "text/x-python",
   "name": "python",
   "nbconvert_exporter": "python",
   "pygments_lexer": "ipython3",
   "version": "3.9.13"
  }
 },
 "nbformat": 4,
 "nbformat_minor": 5
}
