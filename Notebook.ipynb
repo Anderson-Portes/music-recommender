{
 "cells": [
  {
   "cell_type": "code",
   "execution_count": 1,
   "id": "78accadc",
   "metadata": {},
   "outputs": [],
   "source": [
    "import pandas as pd\n",
    "from sklearn.metrics.pairwise import cosine_similarity\n",
    "from sklearn.preprocessing import StandardScaler\n",
    "import pickle"
   ]
  },
  {
   "cell_type": "code",
   "execution_count": 2,
   "id": "33f6eab8",
   "metadata": {},
   "outputs": [],
   "source": [
    "df = pd.read_csv('musics.csv')"
   ]
  },
  {
   "cell_type": "code",
   "execution_count": 3,
   "id": "3752281b",
   "metadata": {},
   "outputs": [],
   "source": [
    "df.dropna(inplace=True)"
   ]
  },
  {
   "cell_type": "code",
   "execution_count": 4,
   "id": "3a931504",
   "metadata": {},
   "outputs": [],
   "source": [
    "column_rename = {\n",
    "    \"the genre of the track\": \"genre\",\n",
    "    \"Beats.Per.Minute -The tempo of the song\": \"bpm\",\n",
    "    \"Energy- The energy of a song - the higher the value, the more energtic\": \"energy\",\n",
    "    \"Danceability - The higher the value, the easier it is to dance to this song\": \"dance\",\n",
    "    \"Loudness/dB - The higher the value, the louder the song\": \"loud\",\n",
    "    \"Liveness - The higher the value, the more likely the song is a live recording\": \"live\",\n",
    "    \"Valence - The higher the value, the more positive mood for the song\": \"valence\",\n",
    "    \"Length - The duration of the song\":\"duration\",\n",
    "    \"Acousticness - The higher the value the more acoustic the song is\": \"acoustic\",\n",
    "    \"Speechiness - The higher the value the more spoken word the song contains\": \"speech\",\n",
    "    \"Popularity- The higher the value the more popular the song is\": \"popularity\"\n",
    "}\n",
    "df = df.rename(columns=column_rename)"
   ]
  },
  {
   "cell_type": "code",
   "execution_count": 5,
   "metadata": {},
   "outputs": [
    {
     "data": {
      "text/html": [
       "<div>\n",
       "<style scoped>\n",
       "    .dataframe tbody tr th:only-of-type {\n",
       "        vertical-align: middle;\n",
       "    }\n",
       "\n",
       "    .dataframe tbody tr th {\n",
       "        vertical-align: top;\n",
       "    }\n",
       "\n",
       "    .dataframe thead th {\n",
       "        text-align: right;\n",
       "    }\n",
       "</style>\n",
       "<table border=\"1\" class=\"dataframe\">\n",
       "  <thead>\n",
       "    <tr style=\"text-align: right;\">\n",
       "      <th></th>\n",
       "      <th>title</th>\n",
       "      <th>artist</th>\n",
       "      <th>genre</th>\n",
       "      <th>year</th>\n",
       "      <th>bpm</th>\n",
       "      <th>energy</th>\n",
       "      <th>dance</th>\n",
       "      <th>loud</th>\n",
       "      <th>live</th>\n",
       "      <th>valence</th>\n",
       "      <th>duration</th>\n",
       "      <th>acoustic</th>\n",
       "      <th>speech</th>\n",
       "      <th>popularity</th>\n",
       "    </tr>\n",
       "  </thead>\n",
       "  <tbody>\n",
       "    <tr>\n",
       "      <th>0</th>\n",
       "      <td>Hey, Soul Sister</td>\n",
       "      <td>Train</td>\n",
       "      <td>neo mellow</td>\n",
       "      <td>2010</td>\n",
       "      <td>97</td>\n",
       "      <td>89</td>\n",
       "      <td>67</td>\n",
       "      <td>-4</td>\n",
       "      <td>8</td>\n",
       "      <td>80</td>\n",
       "      <td>217</td>\n",
       "      <td>19</td>\n",
       "      <td>4</td>\n",
       "      <td>83</td>\n",
       "    </tr>\n",
       "    <tr>\n",
       "      <th>1</th>\n",
       "      <td>Love The Way You Lie</td>\n",
       "      <td>Eminem</td>\n",
       "      <td>detroit hip hop</td>\n",
       "      <td>2010</td>\n",
       "      <td>87</td>\n",
       "      <td>93</td>\n",
       "      <td>75</td>\n",
       "      <td>-5</td>\n",
       "      <td>52</td>\n",
       "      <td>64</td>\n",
       "      <td>263</td>\n",
       "      <td>24</td>\n",
       "      <td>23</td>\n",
       "      <td>82</td>\n",
       "    </tr>\n",
       "    <tr>\n",
       "      <th>2</th>\n",
       "      <td>TiK ToK</td>\n",
       "      <td>Kesha</td>\n",
       "      <td>dance pop</td>\n",
       "      <td>2010</td>\n",
       "      <td>120</td>\n",
       "      <td>84</td>\n",
       "      <td>76</td>\n",
       "      <td>-3</td>\n",
       "      <td>29</td>\n",
       "      <td>71</td>\n",
       "      <td>200</td>\n",
       "      <td>10</td>\n",
       "      <td>14</td>\n",
       "      <td>80</td>\n",
       "    </tr>\n",
       "    <tr>\n",
       "      <th>3</th>\n",
       "      <td>Bad Romance</td>\n",
       "      <td>Lady Gaga</td>\n",
       "      <td>dance pop</td>\n",
       "      <td>2010</td>\n",
       "      <td>119</td>\n",
       "      <td>92</td>\n",
       "      <td>70</td>\n",
       "      <td>-4</td>\n",
       "      <td>8</td>\n",
       "      <td>71</td>\n",
       "      <td>295</td>\n",
       "      <td>0</td>\n",
       "      <td>4</td>\n",
       "      <td>79</td>\n",
       "    </tr>\n",
       "    <tr>\n",
       "      <th>4</th>\n",
       "      <td>Just the Way You Are</td>\n",
       "      <td>Bruno Mars</td>\n",
       "      <td>pop</td>\n",
       "      <td>2010</td>\n",
       "      <td>109</td>\n",
       "      <td>84</td>\n",
       "      <td>64</td>\n",
       "      <td>-5</td>\n",
       "      <td>9</td>\n",
       "      <td>43</td>\n",
       "      <td>221</td>\n",
       "      <td>2</td>\n",
       "      <td>4</td>\n",
       "      <td>78</td>\n",
       "    </tr>\n",
       "  </tbody>\n",
       "</table>\n",
       "</div>"
      ],
      "text/plain": [
       "                  title      artist            genre  year  bpm  energy  \\\n",
       "0      Hey, Soul Sister       Train       neo mellow  2010   97      89   \n",
       "1  Love The Way You Lie      Eminem  detroit hip hop  2010   87      93   \n",
       "2               TiK ToK       Kesha        dance pop  2010  120      84   \n",
       "3           Bad Romance   Lady Gaga        dance pop  2010  119      92   \n",
       "4  Just the Way You Are  Bruno Mars              pop  2010  109      84   \n",
       "\n",
       "   dance  loud  live  valence  duration  acoustic  speech  popularity  \n",
       "0     67    -4     8       80       217        19       4          83  \n",
       "1     75    -5    52       64       263        24      23          82  \n",
       "2     76    -3    29       71       200        10      14          80  \n",
       "3     70    -4     8       71       295         0       4          79  \n",
       "4     64    -5     9       43       221         2       4          78  "
      ]
     },
     "execution_count": 5,
     "metadata": {},
     "output_type": "execute_result"
    }
   ],
   "source": [
    "df.head()"
   ]
  },
  {
   "cell_type": "code",
   "execution_count": 6,
   "id": "46174b6a",
   "metadata": {},
   "outputs": [],
   "source": [
    "np_df = df[['bpm', 'energy', 'dance', 'loud', 'live', 'valence',\n",
    "            'duration', 'acoustic', 'speech', 'popularity']].to_numpy()\n",
    "data = StandardScaler().fit_transform(np_df)"
   ]
  },
  {
   "cell_type": "code",
   "execution_count": 7,
   "id": "a5f85789",
   "metadata": {},
   "outputs": [],
   "source": [
    "similarity = cosine_similarity(data)"
   ]
  },
  {
   "cell_type": "code",
   "execution_count": 8,
   "id": "57eb9cb3",
   "metadata": {},
   "outputs": [
    {
     "name": "stdout",
     "output_type": "stream",
     "text": [
      "One Direction - Steal My Girl\n",
      "Birdy - Wings\n",
      "Selena Gomez - Come & Get It\n",
      "Katy Perry - Rise\n",
      "Madonna - Ghosttown\n"
     ]
    }
   ],
   "source": [
    "def recommend(music):\n",
    "    index = df[df['title'] == music].index[0]\n",
    "    distances = similarity[index]\n",
    "    musics_with_index = list(enumerate(distances))\n",
    "    musics_list = sorted(musics_with_index,reverse=True,key=lambda x:x[1])[1:6]\n",
    "    for i in musics_list:\n",
    "        music = df.iloc[i[0]]\n",
    "        print(f'{music.artist} - {music.title}')\n",
    "recommend('Diamonds')"
   ]
  },
  {
   "cell_type": "code",
   "execution_count": 9,
   "id": "246a451a",
   "metadata": {},
   "outputs": [],
   "source": [
    "pickle.dump(df.to_dict(),open('data.pkl','wb'))\n",
    "pickle.dump(similarity,open('similarity.pkl','wb'))"
   ]
  }
 ],
 "metadata": {
  "kernelspec": {
   "display_name": "Python 3 (ipykernel)",
   "language": "python",
   "name": "python3"
  },
  "language_info": {
   "codemirror_mode": {
    "name": "ipython",
    "version": 3
   },
   "file_extension": ".py",
   "mimetype": "text/x-python",
   "name": "python",
   "nbconvert_exporter": "python",
   "pygments_lexer": "ipython3",
   "version": "3.11.4"
  }
 },
 "nbformat": 4,
 "nbformat_minor": 5
}
