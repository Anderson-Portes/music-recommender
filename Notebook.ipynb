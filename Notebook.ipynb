{
 "cells": [
  {
   "cell_type": "code",
   "execution_count": 1,
   "id": "78accadc",
   "metadata": {},
   "outputs": [],
   "source": [
    "import pandas as pd\n",
    "from sklearn.metrics.pairwise import cosine_similarity\n",
    "from sklearn.preprocessing import StandardScaler\n",
    "import pickle"
   ]
  },
  {
   "cell_type": "code",
   "execution_count": 2,
   "id": "33f6eab8",
   "metadata": {},
   "outputs": [],
   "source": [
    "df = pd.read_csv('musics.csv')"
   ]
  },
  {
   "cell_type": "code",
   "execution_count": 3,
   "id": "3752281b",
   "metadata": {},
   "outputs": [],
   "source": [
    "df.dropna(inplace=True)"
   ]
  },
  {
   "cell_type": "code",
   "execution_count": 4,
   "id": "3a931504",
   "metadata": {},
   "outputs": [],
   "source": [
    "column_rename = {\n",
    "    \"the genre of the track\": \"genre\",\n",
    "    \"Beats.Per.Minute -The tempo of the song\": \"bpm\",\n",
    "    \"Energy- The energy of a song - the higher the value, the more energtic\": \"energy\",\n",
    "    \"Danceability - The higher the value, the easier it is to dance to this song\": \"dance\",\n",
    "    \"Loudness/dB - The higher the value, the louder the song\": \"loud\",\n",
    "    \"Liveness - The higher the value, the more likely the song is a live recording\": \"live\",\n",
    "    \"Valence - The higher the value, the more positive mood for the song\": \"valence\",\n",
    "    \"Length - The duration of the song\":\"duration\",\n",
    "    \"Acousticness - The higher the value the more acoustic the song is\": \"acoustic\",\n",
    "    \"Speechiness - The higher the value the more spoken word the song contains\": \"speech\",\n",
    "    \"Popularity- The higher the value the more popular the song is\": \"popularity\"\n",
    "}\n",
    "df = df.rename(columns=column_rename)"
   ]
  },
  {
   "cell_type": "code",
   "execution_count": 5,
   "id": "46174b6a",
   "metadata": {},
   "outputs": [],
   "source": [
    "np_df = df.select_dtypes('number').drop('year',axis=1).to_numpy()\n",
    "data = StandardScaler().fit_transform(np_df)"
   ]
  },
  {
   "cell_type": "code",
   "execution_count": 6,
   "id": "a5f85789",
   "metadata": {},
   "outputs": [],
   "source": [
    "similarity = cosine_similarity(data)"
   ]
  },
  {
   "cell_type": "code",
   "execution_count": 7,
   "id": "57eb9cb3",
   "metadata": {},
   "outputs": [
    {
     "name": "stdout",
     "output_type": "stream",
     "text": [
      "One Direction - Steal My Girl\n",
      "Birdy - Wings\n",
      "Selena Gomez - Come & Get It\n",
      "Katy Perry - Rise\n",
      "Madonna - Ghosttown\n"
     ]
    }
   ],
   "source": [
    "def recommend(music):\n",
    "    index = df[df['title'] == music].index[0]\n",
    "    distances = similarity[index]\n",
    "    musics_with_index = list(enumerate(distances))\n",
    "    musics_list = sorted(musics_with_index,reverse=True,key=lambda x:x[1])[1:6]\n",
    "    for i in musics_list:\n",
    "        music = df.iloc[i[0]]\n",
    "        print(f'{music.artist} - {music.title}')\n",
    "recommend('Diamonds')"
   ]
  },
  {
   "cell_type": "code",
   "execution_count": 8,
   "id": "246a451a",
   "metadata": {},
   "outputs": [],
   "source": [
    "pickle.dump(df.to_dict(),open('data.pkl','wb'))\n",
    "pickle.dump(similarity,open('similarity.pkl','wb'))"
   ]
  }
 ],
 "metadata": {
  "kernelspec": {
   "display_name": "Python 3 (ipykernel)",
   "language": "python",
   "name": "python3"
  },
  "language_info": {
   "codemirror_mode": {
    "name": "ipython",
    "version": 3
   },
   "file_extension": ".py",
   "mimetype": "text/x-python",
   "name": "python",
   "nbconvert_exporter": "python",
   "pygments_lexer": "ipython3",
   "version": "3.11.4"
  }
 },
 "nbformat": 4,
 "nbformat_minor": 5
}
